{
 "cells": [
  {
   "cell_type": "code",
   "execution_count": 1,
   "metadata": {},
   "outputs": [
    {
     "name": "stdout",
     "output_type": "stream",
     "text": [
      "(3+5j)\n"
     ]
    }
   ],
   "source": [
    "#Question 1\n",
    "a=5+7j\n",
    "b=2+2j\n",
    "c= a-b\n",
    "print(c)"
   ]
  },
  {
   "cell_type": "code",
   "execution_count": 3,
   "metadata": {},
   "outputs": [
    {
     "name": "stdout",
     "output_type": "stream",
     "text": [
      "5.47570348915369\n"
     ]
    }
   ],
   "source": [
    "#Question 2\n",
    "a=899\n",
    "b= a**(1/4)\n",
    "print(b)"
   ]
  },
  {
   "cell_type": "code",
   "execution_count": 5,
   "metadata": {},
   "outputs": [
    {
     "name": "stdout",
     "output_type": "stream",
     "text": [
      "Before swapping : a= 7  b= 9\n",
      "After swapping  : a= 9  b= 9\n"
     ]
    }
   ],
   "source": [
    "#Question 3\n",
    "a=7\n",
    "b=9\n",
    "print(\"Before swapping : a=\",a,\" b=\",b)\n",
    "c=a\n",
    "a=b\n",
    "b=a\n",
    "print(\"After swapping  : a=\",a,\" b=\",b)"
   ]
  },
  {
   "cell_type": "code",
   "execution_count": 6,
   "metadata": {},
   "outputs": [
    {
     "name": "stdout",
     "output_type": "stream",
     "text": [
      "Before swapping : a= 6  b= 7\n",
      "After swapping  : a= 7  b= 6\n"
     ]
    }
   ],
   "source": [
    "#Question 4\n",
    "a=6\n",
    "b=7\n",
    "print(\"Before swapping : a=\",a,\" b=\",b)\n",
    "a,b = b,a\n",
    "print(\"After swapping  : a=\",a,\" b=\",b)"
   ]
  },
  {
   "cell_type": "code",
   "execution_count": 7,
   "metadata": {},
   "outputs": [
    {
     "name": "stdout",
     "output_type": "stream",
     "text": [
      "10 F =  -14.444444444444445 C\n"
     ]
    }
   ],
   "source": [
    "#Question 5\n",
    "\n",
    "#Fahernheit \n",
    "a=10\n",
    "\n",
    "#Celcius\n",
    "b= (b-32)*(5/9)\n",
    "print(a,\"F = \" ,b,\"C\")"
   ]
  },
  {
   "cell_type": "code",
   "execution_count": 12,
   "metadata": {},
   "outputs": [
    {
     "name": "stdout",
     "output_type": "stream",
     "text": [
      "<class 'str'>\n",
      "<class 'int'>\n",
      "<class 'set'>\n",
      "<class 'list'>\n",
      "<class 'float'>\n",
      "<class 'complex'>\n",
      "<class 'tuple'>\n"
     ]
    }
   ],
   "source": [
    "#Question 6\n",
    "\n",
    "a='a'\n",
    "print(type(a))\n",
    "b=1\n",
    "print(type(b))\n",
    "c={12,3,6}\n",
    "print(type(c))\n",
    "d=[1,2,3]\n",
    "print(type(d))\n",
    "e=5.6\n",
    "print(type(e))\n",
    "f=7+6j\n",
    "print(type(f))\n",
    "g=(3,4,2)\n",
    "print(type(g))"
   ]
  }
 ],
 "metadata": {
  "kernelspec": {
   "display_name": "Python 3",
   "language": "python",
   "name": "python3"
  },
  "language_info": {
   "codemirror_mode": {
    "name": "ipython",
    "version": 3
   },
   "file_extension": ".py",
   "mimetype": "text/x-python",
   "name": "python",
   "nbconvert_exporter": "python",
   "pygments_lexer": "ipython3",
   "version": "3.7.8"
  }
 },
 "nbformat": 4,
 "nbformat_minor": 4
}
